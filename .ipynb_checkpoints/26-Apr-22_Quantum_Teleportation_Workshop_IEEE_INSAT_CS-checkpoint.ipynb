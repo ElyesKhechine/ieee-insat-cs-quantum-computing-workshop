{
 "cells": [
  {
   "cell_type": "code",
   "execution_count": 2,
   "id": "2473bc67",
   "metadata": {},
   "outputs": [],
   "source": [
    "from qiskit import QuantumCircuit,Aer, execute\n",
    "from qiskit.visualization import plot_bloch_multivector,plot_histogram, array_to_latex\n",
    "from qiskit.quantum_info import random_statevector"
   ]
  },
  {
   "cell_type": "code",
   "execution_count": 3,
   "id": "10e35ea4",
   "metadata": {},
   "outputs": [
    {
     "data": {
      "text/latex": [
       "$$\n",
       "\n",
       "\\begin{bmatrix}\n",
       "-0.51463 - 0.11801i & 0.83523 + 0.15368i  \\\\\n",
       " \\end{bmatrix}\n",
       "$$"
      ],
      "text/plain": [
       "<IPython.core.display.Latex object>"
      ]
     },
     "execution_count": 3,
     "metadata": {},
     "output_type": "execute_result"
    }
   ],
   "source": [
    "psi = random_statevector(2)\n",
    "array_to_latex(psi)"
   ]
  },
  {
   "cell_type": "code",
   "execution_count": 4,
   "id": "5441a585",
   "metadata": {},
   "outputs": [],
   "source": [
    "#Entangling qubits\n",
    "def Entangling (qc,a,b):\n",
    "    qc.h(a)\n",
    "    qc.cx(a,b)\n",
    "    return qc"
   ]
  },
  {
   "cell_type": "code",
   "execution_count": 5,
   "id": "92b20fab",
   "metadata": {},
   "outputs": [],
   "source": [
    "#Reverse entangling\n",
    "def REntangling(qc,a,b):\n",
    "    qc.cx(a,b)\n",
    "    qc.h(a)\n",
    "    return qc"
   ]
  },
  {
   "cell_type": "code",
   "execution_count": 9,
   "id": "91bddcb9",
   "metadata": {},
   "outputs": [],
   "source": [
    "def measuring (qc,a,b,crz,crx):\n",
    "    qc.measure(a,crz)\n",
    "    qc.h(a)\n",
    "    return qc"
   ]
  },
  {
   "cell_type": "code",
   "execution_count": null,
   "id": "4dbc8ebb",
   "metadata": {},
   "outputs": [],
   "source": [
    "def fixingBob(qc,b):\n",
    "    qc.x(b).c_if(crx,1)\n",
    "    qc.z(b).c_if(crx,1)\n",
    "    return qc"
   ]
  },
  {
   "cell_type": "code",
   "execution_count": 12,
   "id": "674807a8",
   "metadata": {},
   "outputs": [
    {
     "ename": "NameError",
     "evalue": "name 'ClassicalRegister' is not defined",
     "output_type": "error",
     "traceback": [
      "\u001b[1;31m---------------------------------------------------------------------------\u001b[0m",
      "\u001b[1;31mNameError\u001b[0m                                 Traceback (most recent call last)",
      "\u001b[1;32m~\\AppData\\Local\\Temp/ipykernel_5908/4227650936.py\u001b[0m in \u001b[0;36m<module>\u001b[1;34m\u001b[0m\n\u001b[0;32m      1\u001b[0m \u001b[0mqc\u001b[0m\u001b[1;33m=\u001b[0m\u001b[0mQuantumCircuit\u001b[0m\u001b[1;33m(\u001b[0m\u001b[1;36m3\u001b[0m\u001b[1;33m)\u001b[0m\u001b[1;33m\u001b[0m\u001b[1;33m\u001b[0m\u001b[0m\n\u001b[1;32m----> 2\u001b[1;33m \u001b[0mcrz\u001b[0m\u001b[1;33m=\u001b[0m\u001b[0mClassicalRegister\u001b[0m\u001b[1;33m(\u001b[0m\u001b[1;36m1\u001b[0m\u001b[1;33m)\u001b[0m\u001b[1;33m\u001b[0m\u001b[1;33m\u001b[0m\u001b[0m\n\u001b[0m\u001b[0;32m      3\u001b[0m \u001b[0mcrx\u001b[0m\u001b[1;33m=\u001b[0m\u001b[0mClassicalRegister\u001b[0m\u001b[1;33m(\u001b[0m\u001b[1;36m1\u001b[0m\u001b[1;33m)\u001b[0m\u001b[1;33m\u001b[0m\u001b[1;33m\u001b[0m\u001b[0m\n\u001b[0;32m      4\u001b[0m \u001b[0mqc\u001b[0m\u001b[1;33m.\u001b[0m\u001b[0minitialize\u001b[0m\u001b[1;33m(\u001b[0m\u001b[0mpsi\u001b[0m\u001b[1;33m,\u001b[0m\u001b[1;36m0\u001b[0m\u001b[1;33m)\u001b[0m\u001b[1;33m\u001b[0m\u001b[1;33m\u001b[0m\u001b[0m\n\u001b[0;32m      5\u001b[0m \u001b[0mqc\u001b[0m\u001b[1;33m.\u001b[0m\u001b[0mbarrier\u001b[0m\u001b[1;33m(\u001b[0m\u001b[1;33m)\u001b[0m\u001b[1;33m\u001b[0m\u001b[1;33m\u001b[0m\u001b[0m\n",
      "\u001b[1;31mNameError\u001b[0m: name 'ClassicalRegister' is not defined"
     ]
    }
   ],
   "source": [
    "qc=QuantumCircuit(3)\n",
    "crz=ClassicalRegister(1)\n",
    "crx=ClassicalRegister(1)\n",
    "qc.initialize(psi,0)\n",
    "qc.barrier()\n",
    "qc=Entangling(qc,1,2)\n",
    "qc.barrier()\n",
    "qc=REntangling(qc,0,1)\n",
    "qc.barrier()\n",
    "qc=measuring(qc,0,1,0,1)\n",
    "qc=fixingBob(qc,qr[2],crz,crx)\n",
    "qc.draw('mpl')"
   ]
  },
  {
   "cell_type": "code",
   "execution_count": null,
   "id": "63cd2363",
   "metadata": {},
   "outputs": [],
   "source": [
    "backend=Aer.get_backend('statevector_simulator')\n",
    "job=execute(qc,backend).result().get_statevector(qc,decimal=3)\n",
    "plot_bloch_multivector(job)"
   ]
  },
  {
   "cell_type": "code",
   "execution_count": null,
   "id": "14f5f511",
   "metadata": {},
   "outputs": [],
   "source": [
    "array_to_latex(job)"
   ]
  }
 ],
 "metadata": {
  "kernelspec": {
   "display_name": "Python 3 (ipykernel)",
   "language": "python",
   "name": "python3"
  },
  "language_info": {
   "codemirror_mode": {
    "name": "ipython",
    "version": 3
   },
   "file_extension": ".py",
   "mimetype": "text/x-python",
   "name": "python",
   "nbconvert_exporter": "python",
   "pygments_lexer": "ipython3",
   "version": "3.9.7"
  }
 },
 "nbformat": 4,
 "nbformat_minor": 5
}
